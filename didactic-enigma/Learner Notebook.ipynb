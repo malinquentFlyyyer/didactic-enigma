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\n",
      "text/plain": [
       "<Figure size 720x720 with 16 Axes>"
      ]
     },
     "metadata": {},
     "output_type": "display_data"
    }
   ],
   "source": [
    "# let's take a look at our data\n",
    "plt.figure(figsize=(10,10))\n",
    "\n",
    "for i in range(0, 16):\n",
    "    plt.subplot(4, 4, i + 1)\n",
    "    plt.imshow(x_train[i], cmap='binary')\n",
    "    plt.xlabel(str(y_train[i]))\n",
    "    plt.xticks([])\n",
    "    plt.yticks([])\n",
    "plt.show()"
   ]
  },
  {
   "cell_type": "markdown",
   "metadata": {},
   "source": [
    "# Normalize Data"
   ]
  },
  {
   "cell_type": "code",
   "execution_count": 12,
   "metadata": {},
   "outputs": [],
   "source": [
    "x_train = np.reshape(x_train, (60000, 28 * 28))\n",
    "x_test = np.reshape(x_test, (10000, 28 * 28))\n",
    "\n",
    "# improve faster, better convergence of the model, re-scaling from 0-266 to 0-1 scale\n",
    "x_train = x_train / 255.\n",
    "x_test = x_test / 255.\n",
    "\n",
    "# x_train[0].shape\n",
    "# x_train.shape, note the shape, values of our vectors for our dataset after reshape,normalization"
   ]
  },
  {
   "cell_type": "markdown",
   "metadata": {},
   "source": [
    "# Create a Neural Network Model"
   ]
  },
  {
   "cell_type": "code",
   "execution_count": 14,
   "metadata": {},
   "outputs": [],
   "source": [
    "model = tf.keras.models.Sequential([\n",
    "    tf.keras.layers.Dense(32, activation='sigmoid', input_shape=(784,)),\n",
    "    tf.keras.layers.Dense(32, activation='sigmoid'),\n",
    "    tf.keras.layers.Dense(10, activation='softmax')]\n",
    "        )\n",
    "    \n",
    "model.compile(loss='sparse_categorical_crossentropy', optimizer='adam', metrics=['accuracy'])\n",
    "    "
   ]
  },
  {
   "cell_type": "raw",
   "metadata": {},
   "source": [
    "# Train the Model\n",
    "_ = model.fit(\n",
    "    x_train, y_train,\n",
    "    validation_data=(x_test, y_test)\n",
    "    epochs=20, batch_size=2048, verbose=2\n",
    "    )"
   ]
  },
  {
   "cell_type": "code",
   "execution_count": 15,
   "metadata": {},
   "outputs": [
    {
     "data": {
      "text/plain": [
       "''"
      ]
     },
     "execution_count": 15,
     "metadata": {},
     "output_type": "execute_result"
    }
   ],
   "source": []
  },
  {
   "cell_type": "markdown",
   "metadata": {},
   "source": [
    "# Save the Model"
   ]
  },
  {
   "cell_type": "code",
   "execution_count": 17,
   "metadata": {},
   "outputs": [],
   "source": [
    "model.save('model.h5')"
   ]
  },
  {
   "cell_type": "markdown",
   "metadata": {},
   "source": [
    "# ML Server"
   ]
  },
  {
   "cell_type": "code",
   "execution_count": 22,
   "metadata": {},
   "outputs": [
    {
     "name": "stdout",
     "output_type": "stream",
     "text": [
      "Overwriting ml_server.py\n"
     ]
    }
   ],
   "source": [
    "%%writefile ml_server.py\n",
    "# create a model server, running just for inferences, connect via restcall to web server, web app\n",
    "# magic functions\n",
    "import json\n",
    "import tensorflow as tf\n",
    "import numpy as np\n",
    "import random\n",
    "\n",
    "from flask import Flask, request\n",
    "\n",
    "app = Flask(__name__)\n",
    "\n",
    "# let's grab our keras model\n",
    "model = tf.keras.models.load_model('model.h5')\n",
    "feature_model = tf.keras.models.Model(model.inputs, \n",
    "                                      [layer.output for layer in model.layers])\n",
    "\n",
    "_, (x_test, _) = tf.keras.datasets.mnist.load_data()\n",
    "x_test = x_test / 255.\n",
    "\n",
    "def get_prediction():\n",
    "    index = np.random.choice(x_test.shape[0])\n",
    "    image = x_test[index, :, :]\n",
    "    image_arr = np.reshape(image, (1,784))\n",
    "    return feature_model.predict(image_arr), image\n",
    "\n",
    "@app.route('/', methods=['GET', 'POST'])\n",
    "def index():\n",
    "    if request.method == 'POST':\n",
    "        preds, image = get_prediction()\n",
    "        # preds will return a numpy arrray, we must convert to a list for json structure for payload response\n",
    "        final_preds = [p.toList() for p in preds]\n",
    "        return json.dumps({\n",
    "            'prediction': final_preds,\n",
    "            'image': image.toList()\n",
    "            \n",
    "        })\n",
    "    \n",
    "    return 'Welcome to the model server!'\n",
    "\n",
    "if __name__ == '__main__':\n",
    "    app.run()"
   ]
  },
  {
   "cell_type": "markdown",
   "metadata": {},
   "source": [
    "# Streamlit Web App"
   ]
  },
  {
   "cell_type": "code",
   "execution_count": 26,
   "metadata": {},
   "outputs": [
    {
     "name": "stdout",
     "output_type": "stream",
     "text": [
      "Overwriting app.py\n"
     ]
    }
   ],
   "source": [
    "%%writefile app.py\n",
    "\n",
    "import streamlit as st\n",
    "import json\n",
    "# need for post request to server\n",
    "import requests\n",
    "import matplotlib.pyplot as plt\n",
    "import numpy as np\n",
    "\n",
    "# URI for model server\n",
    "URI = 'http://127.0.0.1:5000'\n",
    "\n",
    "st.title('Neural Network Visualizer')\n",
    "st.sidebar.markdown('## Input Image')\n",
    "\n",
    "if st.button('Get random prediction'):\n",
    "    # push button, generate random image\n",
    "    response = requests.post(URI, data={})\n",
    "    response = json.loads(response.text)\n",
    "    preds = response.get('prediction')\n",
    "    image = response.get('image')\n",
    "    image = np.reshape(image, (28,28))\n",
    "    \n",
    "    \n",
    "    st.sidebar.image(image, width=150)\n",
    "    \n",
    "    # display prediction itself\n",
    "    for layer, p in enumerate(preds):\n",
    "        \n",
    "        numbers = np.squeeze(np.array(p))\n",
    "        \n",
    "        plt.figure(figsize=(32, 4))\n",
    "        \n",
    "        # 2 represents final output layer\n",
    "        if layer == 2:\n",
    "            row = 1\n",
    "            col = 10\n",
    "        \n",
    "        else:\n",
    "            row = 2\n",
    "            col = 16\n",
    "            \n",
    "        for i, number in enumerate(numbers):\n",
    "            plt.subplot(row, col, i + 1)\n",
    "            plt.imshow(number * np.ones((8,8,3)).astype('float32'))\n",
    "            plt.xticks([])\n",
    "            plt.yticks([])\n",
    "            \n",
    "            if layer == 2:\n",
    "                plt.xlabel(str(i), fontsize=40)\n",
    "        plt.subplots_adjust(wspace=0.05,hspace=0.05)\n",
    "        plt.tight_layout()\n",
    "        st.text('Layer {}'.format(layer + 1))\n",
    "        st.pyplot()"
   ]
  },
  {
   "cell_type": "code",
   "execution_count": null,
   "metadata": {},
   "outputs": [],
   "source": []
  }
 ],
 "metadata": {
  "kernelspec": {
   "display_name": "Python 3",
   "language": "python",
   "name": "python3"
  },
  "language_info": {
   "codemirror_mode": {
    "name": "ipython",
    "version": 3
   },
   "file_extension": ".py",
   "mimetype": "text/x-python",
   "name": "python",
   "nbconvert_exporter": "python",
   "pygments_lexer": "ipython3",
   "version": "3.6.9"
  }
 },
 "nbformat": 4,
 "nbformat_minor": 4
}
